{
  "nbformat": 4,
  "nbformat_minor": 0,
  "metadata": {
    "colab": {
      "name": "first.ipynb",
      "provenance": [],
      "collapsed_sections": []
    },
    "kernelspec": {
      "name": "python3",
      "display_name": "Python 3"
    }
  },
  "cells": [
    {
      "cell_type": "code",
      "metadata": {
        "id": "rFAsgMlbT800",
        "colab_type": "code",
        "outputId": "11cc0cc2-36bd-435c-dc5b-f07d678037df",
        "colab": {
          "base_uri": "https://localhost:8080/",
          "height": 34
        }
      },
      "source": [
        "#calculate\n",
        "2*(3+4)"
      ],
      "execution_count": 0,
      "outputs": [
        {
          "output_type": "execute_result",
          "data": {
            "text/plain": [
              "14"
            ]
          },
          "metadata": {
            "tags": []
          },
          "execution_count": 1
        }
      ]
    },
    {
      "cell_type": "markdown",
      "metadata": {
        "id": "97XjLPbuUoKE",
        "colab_type": "text"
      },
      "source": [
        "*Display　something*\n",
        "\n",
        "\n",
        "```\n",
        "# これはコードとして書式設定されます\n",
        "```\n",
        "\n"
      ]
    },
    {
      "cell_type": "code",
      "metadata": {
        "id": "6Sc6xtE-Vch3",
        "colab_type": "code",
        "colab": {}
      },
      "source": [
        "'''\n",
        "Print a value\n",
        "'''\n",
        "print(First value:1)"
      ],
      "execution_count": 0,
      "outputs": []
    },
    {
      "cell_type": "markdown",
      "metadata": {
        "id": "7mAZPgoWW0vI",
        "colab_type": "text"
      },
      "source": [
        "**Calling a function sort**\n",
        "\n",
        "1.make a list of\n",
        "\n",
        "Numbers = [4,3,2,1]\n",
        "\n",
        "2.Use the function sort() to sort the Numbers\n",
        "\n",
        "3.Display by using print"
      ]
    },
    {
      "cell_type": "code",
      "metadata": {
        "id": "dQ7TjQR7YCDY",
        "colab_type": "code",
        "outputId": "1d2332a4-6c0a-4801-a009-c9e910d8ffc2",
        "colab": {
          "base_uri": "https://localhost:8080/",
          "height": 34
        }
      },
      "source": [
        "Numbers = [4,3,2,1]\n",
        "Numbers.sort()\n",
        "print (Numbers)"
      ],
      "execution_count": 0,
      "outputs": [
        {
          "output_type": "stream",
          "text": [
            "[1, 2, 3, 4]\n"
          ],
          "name": "stdout"
        }
      ]
    },
    {
      "cell_type": "markdown",
      "metadata": {
        "id": "f3pM7nQhTSJ8",
        "colab_type": "text"
      },
      "source": [
        "# My First Notebook\n",
        " **Let's write something**\n"
      ]
    }
  ]
}